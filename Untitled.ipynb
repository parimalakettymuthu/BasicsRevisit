{
 "cells": [
  {
   "cell_type": "code",
   "execution_count": 2,
   "id": "b66eb353",
   "metadata": {},
   "outputs": [
    {
     "name": "stdout",
     "output_type": "stream",
     "text": [
      "Enter your name: \n",
      "Parimala\n",
      "Hello Parimala\n"
     ]
    }
   ],
   "source": [
    "print(\"Enter your name: \")\n",
    "name = input()\n",
    "print(\"Hello \" +name)"
   ]
  },
  {
   "cell_type": "code",
   "execution_count": 12,
   "id": "2d23486d",
   "metadata": {},
   "outputs": [
    {
     "name": "stdout",
     "output_type": "stream",
     "text": [
      "Enter Hours: \n",
      "35\n",
      "Enter Rate: \n",
      "2.75\n",
      "Pay :96.25\n"
     ]
    }
   ],
   "source": [
    "print(\"Enter Hours: \")\n",
    "Hours =float(input())\n",
    "print(\"Enter Rate: \")\n",
    "Rate = float(input())\n",
    "Pay = Hours*Rate\n",
    "print(\"Pay :\"+str(Pay))"
   ]
  },
  {
   "cell_type": "code",
   "execution_count": 13,
   "id": "094dab89",
   "metadata": {},
   "outputs": [
    {
     "name": "stdout",
     "output_type": "stream",
     "text": [
      "Width: 8\n",
      "Width: 8.5\n",
      "Height: 4.0\n",
      "11\n"
     ]
    }
   ],
   "source": [
    "width = 17\n",
    "height = 12.0\n",
    "print(\"Width: \"+str(width//2))\n",
    "print(\"Width: \"+str(width/2.0))\n",
    "print(\"Height: \"+str(height/3))\n",
    "print(1+2*5)\n"
   ]
  },
  {
   "cell_type": "code",
   "execution_count": 15,
   "id": "93a518ee",
   "metadata": {},
   "outputs": [
    {
     "name": "stdout",
     "output_type": "stream",
     "text": [
      "Enter celsius temperature: \n",
      "23\n",
      "Farenheit temperature: 73.4\n"
     ]
    }
   ],
   "source": [
    "print(\"Enter celsius temperature: \")\n",
    "celsius = float(input())\n",
    "Farenheit = (celsius*9/5)+32\n",
    "print(\"Farenheit temperature: \"+str(Farenheit))\n"
   ]
  },
  {
   "cell_type": "code",
   "execution_count": 16,
   "id": "5bd9ee15",
   "metadata": {},
   "outputs": [
    {
     "data": {
      "text/plain": [
       "True"
      ]
     },
     "execution_count": 16,
     "metadata": {},
     "output_type": "execute_result"
    }
   ],
   "source": [
    "5==5"
   ]
  },
  {
   "cell_type": "code",
   "execution_count": 17,
   "id": "951f40b4",
   "metadata": {},
   "outputs": [
    {
     "data": {
      "text/plain": [
       "False"
      ]
     },
     "execution_count": 17,
     "metadata": {},
     "output_type": "execute_result"
    }
   ],
   "source": [
    "5==6"
   ]
  },
  {
   "cell_type": "code",
   "execution_count": 18,
   "id": "e3772706",
   "metadata": {},
   "outputs": [
    {
     "data": {
      "text/plain": [
       "bool"
      ]
     },
     "execution_count": 18,
     "metadata": {},
     "output_type": "execute_result"
    }
   ],
   "source": [
    "type(False)"
   ]
  },
  {
   "cell_type": "code",
   "execution_count": 19,
   "id": "2b753a23",
   "metadata": {},
   "outputs": [
    {
     "data": {
      "text/plain": [
       "bool"
      ]
     },
     "execution_count": 19,
     "metadata": {},
     "output_type": "execute_result"
    }
   ],
   "source": [
    "type(True)"
   ]
  },
  {
   "cell_type": "code",
   "execution_count": 20,
   "id": "93a602a0",
   "metadata": {},
   "outputs": [
    {
     "name": "stdout",
     "output_type": "stream",
     "text": [
      "small\n"
     ]
    }
   ],
   "source": [
    "x=3\n",
    "if x<10:\n",
    "    print(\"small\")"
   ]
  },
  {
   "cell_type": "code",
   "execution_count": 21,
   "id": "1d5f96bb",
   "metadata": {},
   "outputs": [
    {
     "name": "stdout",
     "output_type": "stream",
     "text": [
      "Small\n",
      "Done\n"
     ]
    }
   ],
   "source": [
    "x=3\n",
    "if x<10:\n",
    "    print(\"Small\")\n",
    "print(\"Done\")"
   ]
  },
  {
   "cell_type": "code",
   "execution_count": 23,
   "id": "6f63574d",
   "metadata": {},
   "outputs": [
    {
     "name": "stdout",
     "output_type": "stream",
     "text": [
      "X is even\n"
     ]
    }
   ],
   "source": [
    "x=4\n",
    "if x%2 ==0:\n",
    "    print(\"X is even\")\n",
    "else:\n",
    "    print(\"X is odd\")"
   ]
  },
  {
   "cell_type": "raw",
   "id": "0f6e2deb",
   "metadata": {},
   "source": [
    "inp = input('Enter Fahrenheit Temperature:')\n",
    "try: \n",
    "    fahr = float(inp)\n",
    "    cel = (fahr - 32)*5.0/9.0\n",
    "    print(cel)\n",
    "except: \n",
    "    print(\"Please enter a number:\")\n",
    " "
   ]
  },
  {
   "cell_type": "code",
   "execution_count": 24,
   "id": "695e738a",
   "metadata": {},
   "outputs": [
    {
     "data": {
      "text/plain": [
       "True"
      ]
     },
     "execution_count": 24,
     "metadata": {},
     "output_type": "execute_result"
    }
   ],
   "source": [
    "x=6\n",
    "y=2\n",
    "x>=2 and (x/y)>2"
   ]
  },
  {
   "cell_type": "code",
   "execution_count": 7,
   "id": "76225c40",
   "metadata": {},
   "outputs": [
    {
     "name": "stdout",
     "output_type": "stream",
     "text": [
      "Enter Hours:\n",
      "45\n",
      "Enter Rate:\n",
      "u\n",
      "Kindly, enter only numeric inputs\n"
     ]
    }
   ],
   "source": [
    "\n",
    "try:\n",
    "    print(\"Enter Hours:\")\n",
    "    Hours = float(input())\n",
    "    print(\"Enter Rate:\")\n",
    "    Rate = float(input())\n",
    "    Pay=0\n",
    "    if Hours>40:\n",
    "        Pay = (1.5*Hours)*Rate\n",
    "        print(\"Pay: \"+str(Pay))\n",
    "    else:\n",
    "        Pay = Hours*Rate\n",
    "        print(\"Pay: \"+str(Pay))\n",
    "except:\n",
    "    print(\"Kindly, enter only numeric inputs\")\n"
   ]
  },
  {
   "cell_type": "code",
   "execution_count": 13,
   "id": "b1d77c5d",
   "metadata": {},
   "outputs": [
    {
     "name": "stdout",
     "output_type": "stream",
     "text": [
      "Enter a score between 0.0 & 1.0: \n",
      "p\n",
      "Only numeric numbers accepted\n"
     ]
    }
   ],
   "source": [
    "try:\n",
    "    print(\"Enter a score between 0.0 & 1.0: \")\n",
    "    score = float(input())\n",
    " \n",
    "    if (score >=0.0) and (score <=1.0):\n",
    "        if score>=0.9:\n",
    "            print(\"A\")\n",
    "        elif score>=0.8:\n",
    "            print(\"B\")\n",
    "        elif score>=0.7:\n",
    "            print(\"C\")\n",
    "        elif score>=0.6:\n",
    "            print(\"D\")\n",
    "        elif score<0.6:\n",
    "            print(\"F\")\n",
    "except: \n",
    "    print(\"Only numeric numbers accepted\")\n",
    "    "
   ]
  },
  {
   "cell_type": "code",
   "execution_count": 14,
   "id": "bec5ffd7",
   "metadata": {},
   "outputs": [
    {
     "data": {
      "text/plain": [
       "int"
      ]
     },
     "execution_count": 14,
     "metadata": {},
     "output_type": "execute_result"
    }
   ],
   "source": [
    "type(32)"
   ]
  },
  {
   "cell_type": "code",
   "execution_count": 15,
   "id": "3cab592c",
   "metadata": {},
   "outputs": [
    {
     "data": {
      "text/plain": [
       "'w'"
      ]
     },
     "execution_count": 15,
     "metadata": {},
     "output_type": "execute_result"
    }
   ],
   "source": [
    "max('Hello world')"
   ]
  },
  {
   "cell_type": "code",
   "execution_count": 16,
   "id": "eb8554d9",
   "metadata": {},
   "outputs": [
    {
     "data": {
      "text/plain": [
       "' '"
      ]
     },
     "execution_count": 16,
     "metadata": {},
     "output_type": "execute_result"
    }
   ],
   "source": [
    "min('Hello world')"
   ]
  },
  {
   "cell_type": "code",
   "execution_count": 17,
   "id": "796feb9b",
   "metadata": {},
   "outputs": [
    {
     "ename": "ValueError",
     "evalue": "invalid literal for int() with base 10: 'Hello'",
     "output_type": "error",
     "traceback": [
      "\u001b[0;31m---------------------------------------------------------------------------\u001b[0m",
      "\u001b[0;31mValueError\u001b[0m                                Traceback (most recent call last)",
      "Input \u001b[0;32mIn [17]\u001b[0m, in \u001b[0;36m<cell line: 1>\u001b[0;34m()\u001b[0m\n\u001b[0;32m----> 1\u001b[0m \u001b[38;5;28;43mint\u001b[39;49m\u001b[43m(\u001b[49m\u001b[38;5;124;43m'\u001b[39;49m\u001b[38;5;124;43mHello\u001b[39;49m\u001b[38;5;124;43m'\u001b[39;49m\u001b[43m)\u001b[49m\n",
      "\u001b[0;31mValueError\u001b[0m: invalid literal for int() with base 10: 'Hello'"
     ]
    }
   ],
   "source": [
    "int('Hello')"
   ]
  },
  {
   "cell_type": "code",
   "execution_count": 18,
   "id": "e205be88",
   "metadata": {},
   "outputs": [
    {
     "data": {
      "text/plain": [
       "3"
      ]
     },
     "execution_count": 18,
     "metadata": {},
     "output_type": "execute_result"
    }
   ],
   "source": [
    "int(3.99999)"
   ]
  },
  {
   "cell_type": "code",
   "execution_count": 19,
   "id": "d5139b6c",
   "metadata": {},
   "outputs": [
    {
     "data": {
      "text/plain": [
       "-2"
      ]
     },
     "execution_count": 19,
     "metadata": {},
     "output_type": "execute_result"
    }
   ],
   "source": [
    "int(-2.3)"
   ]
  },
  {
   "cell_type": "code",
   "execution_count": 20,
   "id": "d0e9a2de",
   "metadata": {},
   "outputs": [
    {
     "data": {
      "text/plain": [
       "32.0"
      ]
     },
     "execution_count": 20,
     "metadata": {},
     "output_type": "execute_result"
    }
   ],
   "source": [
    "float(32)"
   ]
  },
  {
   "cell_type": "code",
   "execution_count": 21,
   "id": "a25821f4",
   "metadata": {},
   "outputs": [
    {
     "data": {
      "text/plain": [
       "3.14159"
      ]
     },
     "execution_count": 21,
     "metadata": {},
     "output_type": "execute_result"
    }
   ],
   "source": [
    "float('3.14159')"
   ]
  },
  {
   "cell_type": "code",
   "execution_count": 22,
   "id": "228574a1",
   "metadata": {},
   "outputs": [
    {
     "data": {
      "text/plain": [
       "'32'"
      ]
     },
     "execution_count": 22,
     "metadata": {},
     "output_type": "execute_result"
    }
   ],
   "source": [
    "str(32)"
   ]
  },
  {
   "cell_type": "code",
   "execution_count": 23,
   "id": "9bac5a4e",
   "metadata": {},
   "outputs": [
    {
     "data": {
      "text/plain": [
       "'3.14159'"
      ]
     },
     "execution_count": 23,
     "metadata": {},
     "output_type": "execute_result"
    }
   ],
   "source": [
    "str(3.14159)"
   ]
  },
  {
   "cell_type": "code",
   "execution_count": 25,
   "id": "45774d42",
   "metadata": {},
   "outputs": [
    {
     "name": "stdout",
     "output_type": "stream",
     "text": [
      "<module 'math' (built-in)>\n"
     ]
    }
   ],
   "source": [
    "import math\n",
    "print(math)"
   ]
  },
  {
   "cell_type": "code",
   "execution_count": 28,
   "id": "be440b5c",
   "metadata": {},
   "outputs": [
    {
     "data": {
      "text/plain": [
       "-2.7470105694163207"
      ]
     },
     "execution_count": 28,
     "metadata": {},
     "output_type": "execute_result"
    }
   ],
   "source": [
    "signal_power = 34\n",
    "noise_power = 64\n",
    "ratio = signal_power/noise_power\n",
    "decibles = 10*math.log10(ratio)\n",
    "decibles"
   ]
  },
  {
   "cell_type": "code",
   "execution_count": 29,
   "id": "93c0f041",
   "metadata": {},
   "outputs": [
    {
     "data": {
      "text/plain": [
       "0.644217687237691"
      ]
     },
     "execution_count": 29,
     "metadata": {},
     "output_type": "execute_result"
    }
   ],
   "source": [
    "radians = 0.7\n",
    "height = math.sin(radians)\n",
    "height"
   ]
  },
  {
   "cell_type": "code",
   "execution_count": 30,
   "id": "f3d73a17",
   "metadata": {},
   "outputs": [
    {
     "data": {
      "text/plain": [
       "0.7071067811865476"
      ]
     },
     "execution_count": 30,
     "metadata": {},
     "output_type": "execute_result"
    }
   ],
   "source": [
    "math.sqrt(2)/2.0"
   ]
  },
  {
   "cell_type": "code",
   "execution_count": 36,
   "id": "6a37f5bc",
   "metadata": {},
   "outputs": [
    {
     "name": "stdout",
     "output_type": "stream",
     "text": [
      "0.8489618654071336\n",
      "0.5329780622342783\n",
      "0.758533872394064\n",
      "0.21151087481952324\n",
      "0.28558758190296585\n",
      "0.10546700936493969\n",
      "0.11550876188469583\n",
      "0.6586852750445369\n",
      "0.30537123673991484\n",
      "0.13959193052657803\n"
     ]
    }
   ],
   "source": [
    "import random\n",
    "for i in range(10):\n",
    "    x = random.random()\n",
    "    print(x)"
   ]
  },
  {
   "cell_type": "code",
   "execution_count": 37,
   "id": "a14c3f56",
   "metadata": {},
   "outputs": [
    {
     "data": {
      "text/plain": [
       "3"
      ]
     },
     "execution_count": 37,
     "metadata": {},
     "output_type": "execute_result"
    }
   ],
   "source": [
    "t = [1,2,3]\n",
    "random.choice(t)"
   ]
  },
  {
   "cell_type": "code",
   "execution_count": 40,
   "id": "de95a3f6",
   "metadata": {},
   "outputs": [
    {
     "name": "stdout",
     "output_type": "stream",
     "text": [
      "<class 'function'>\n"
     ]
    }
   ],
   "source": [
    "print(type(print_lyrics1))"
   ]
  },
  {
   "cell_type": "code",
   "execution_count": 41,
   "id": "f7e1582d",
   "metadata": {
    "scrolled": true
   },
   "outputs": [
    {
     "name": "stdout",
     "output_type": "stream",
     "text": [
      "I'm a lumberjack and I'm okay.\n",
      "I sleep all night and I work all day.\n"
     ]
    }
   ],
   "source": [
    "print_lyrics1()"
   ]
  },
  {
   "cell_type": "code",
   "execution_count": 50,
   "id": "13741b6f",
   "metadata": {},
   "outputs": [],
   "source": [
    "def repeat_lyrics1():\n",
    "    print_lyrics1()\n",
    "    print_lyrics1()"
   ]
  },
  {
   "cell_type": "code",
   "execution_count": 51,
   "id": "2ce7af49",
   "metadata": {},
   "outputs": [],
   "source": [
    "def print_lyrics1():\n",
    "    print(\"I'm a lumberjack and I'm okay.\")\n",
    "    print(\"I sleep all night and I work all day.\")\n"
   ]
  },
  {
   "cell_type": "code",
   "execution_count": 52,
   "id": "5a5a0770",
   "metadata": {},
   "outputs": [
    {
     "name": "stdout",
     "output_type": "stream",
     "text": [
      "I'm a lumberjack and I'm okay.\n",
      "I sleep all night and I work all day.\n",
      "I'm a lumberjack and I'm okay.\n",
      "I sleep all night and I work all day.\n"
     ]
    }
   ],
   "source": [
    "repeat_lyrics1()"
   ]
  },
  {
   "cell_type": "code",
   "execution_count": 53,
   "id": "707f0bab",
   "metadata": {},
   "outputs": [
    {
     "name": "stdout",
     "output_type": "stream",
     "text": [
      "Pari\n",
      "Pari\n"
     ]
    }
   ],
   "source": [
    "def print_twice(bruce):\n",
    "    print(bruce)\n",
    "    print(bruce)\n",
    "print_twice('Pari')"
   ]
  },
  {
   "cell_type": "code",
   "execution_count": 54,
   "id": "876d569e",
   "metadata": {},
   "outputs": [
    {
     "name": "stdout",
     "output_type": "stream",
     "text": [
      "3.141592653589793\n",
      "3.141592653589793\n"
     ]
    }
   ],
   "source": [
    "import math\n",
    "print_twice(math.pi)"
   ]
  },
  {
   "cell_type": "code",
   "execution_count": 56,
   "id": "5abe2877",
   "metadata": {},
   "outputs": [
    {
     "name": "stdout",
     "output_type": "stream",
     "text": [
      "Pari Pari Pari Pari \n",
      "Pari Pari Pari Pari \n"
     ]
    }
   ],
   "source": [
    "print_twice('Pari '*4)"
   ]
  },
  {
   "cell_type": "code",
   "execution_count": 57,
   "id": "34a63e1a",
   "metadata": {},
   "outputs": [
    {
     "name": "stdout",
     "output_type": "stream",
     "text": [
      "-1.0\n",
      "-1.0\n"
     ]
    }
   ],
   "source": [
    "print_twice(math.cos(math.pi))"
   ]
  },
  {
   "cell_type": "code",
   "execution_count": 58,
   "id": "e399cfb5",
   "metadata": {},
   "outputs": [
    {
     "name": "stdout",
     "output_type": "stream",
     "text": [
      "Pari - the studious\n",
      "Pari - the studious\n"
     ]
    }
   ],
   "source": [
    "arg1 = \"Pari - the studious\"\n",
    "print_twice(arg1)"
   ]
  },
  {
   "cell_type": "code",
   "execution_count": 59,
   "id": "b2878f67",
   "metadata": {},
   "outputs": [],
   "source": [
    "math.cos(radians)\n",
    "golden = (math.sqrt(5)+1)/2"
   ]
  },
  {
   "cell_type": "code",
   "execution_count": 60,
   "id": "b6841cf1",
   "metadata": {},
   "outputs": [
    {
     "data": {
      "text/plain": [
       "1.618033988749895"
      ]
     },
     "execution_count": 60,
     "metadata": {},
     "output_type": "execute_result"
    }
   ],
   "source": [
    "golden"
   ]
  },
  {
   "cell_type": "code",
   "execution_count": 61,
   "id": "0fd01dc6",
   "metadata": {},
   "outputs": [
    {
     "data": {
      "text/plain": [
       "2.23606797749979"
      ]
     },
     "execution_count": 61,
     "metadata": {},
     "output_type": "execute_result"
    }
   ],
   "source": [
    "math.sqrt(5)"
   ]
  },
  {
   "cell_type": "code",
   "execution_count": 62,
   "id": "3f69b92e",
   "metadata": {},
   "outputs": [
    {
     "name": "stdout",
     "output_type": "stream",
     "text": [
      "Hello smarty\n"
     ]
    }
   ],
   "source": [
    "pVal = print(\"Hello smarty\")\n",
    "pVal"
   ]
  },
  {
   "cell_type": "code",
   "execution_count": 63,
   "id": "0230ddeb",
   "metadata": {},
   "outputs": [
    {
     "name": "stdout",
     "output_type": "stream",
     "text": [
      "None\n"
     ]
    }
   ],
   "source": [
    "print(pVal)"
   ]
  },
  {
   "cell_type": "code",
   "execution_count": 64,
   "id": "f3061a4c",
   "metadata": {},
   "outputs": [
    {
     "name": "stdout",
     "output_type": "stream",
     "text": [
      "Bing\n",
      "Bing\n"
     ]
    }
   ],
   "source": [
    "result = print_twice('Bing')"
   ]
  },
  {
   "cell_type": "code",
   "execution_count": 65,
   "id": "1007c8b3",
   "metadata": {},
   "outputs": [
    {
     "name": "stdout",
     "output_type": "stream",
     "text": [
      "None\n"
     ]
    }
   ],
   "source": [
    "print(result)"
   ]
  },
  {
   "cell_type": "code",
   "execution_count": 66,
   "id": "2ed51c88",
   "metadata": {},
   "outputs": [
    {
     "name": "stdout",
     "output_type": "stream",
     "text": [
      "<class 'NoneType'>\n"
     ]
    }
   ],
   "source": [
    "print(type(None))"
   ]
  },
  {
   "cell_type": "code",
   "execution_count": 67,
   "id": "e4857a92",
   "metadata": {},
   "outputs": [
    {
     "data": {
      "text/plain": [
       "7"
      ]
     },
     "execution_count": 67,
     "metadata": {},
     "output_type": "execute_result"
    }
   ],
   "source": [
    "def addtwo(a,b):\n",
    "    added = a+b\n",
    "    return(added)\n",
    "addtwo(3,4)"
   ]
  },
  {
   "cell_type": "code",
   "execution_count": 70,
   "id": "584760ba",
   "metadata": {},
   "outputs": [
    {
     "name": "stdout",
     "output_type": "stream",
     "text": [
      "Enter Hours:\n",
      "45\n",
      "Enter Rate:\n",
      "12\n"
     ]
    },
    {
     "data": {
      "text/plain": [
       "810.0"
      ]
     },
     "execution_count": 70,
     "metadata": {},
     "output_type": "execute_result"
    }
   ],
   "source": [
    "\n",
    "print(\"Enter Hours:\")\n",
    "Hours = float(input())\n",
    "print(\"Enter Rate:\")\n",
    "Rate = float(input())\n",
    "def calculate_pay(Hours, Rate):\n",
    "    Pay=0\n",
    "    try:        \n",
    "        if Hours>40:\n",
    "            Pay = (1.5*Hours)*Rate\n",
    "            #print(\"Pay: \"+str(Pay))\n",
    "        else:\n",
    "            Pay = Hours*Rate\n",
    "            #print(\"Pay: \"+str(Pay))\n",
    "    except:\n",
    "        print(\"Kindly, enter only numeric inputs\")\n",
    "    return Pay\n",
    "Total_Pay = calculate_pay(Hours,Rate)\n",
    "Total_Pay"
   ]
  },
  {
   "cell_type": "code",
   "execution_count": 81,
   "id": "8443dd96",
   "metadata": {},
   "outputs": [
    {
     "name": "stdout",
     "output_type": "stream",
     "text": [
      "Enter a score between 0.0 & 1.0: \n",
      "rew\n",
      "Bad score\n"
     ]
    }
   ],
   "source": [
    "print(\"Enter a score between 0.0 & 1.0: \")\n",
    "score = input()\n",
    "def computegrade(score):\n",
    "    grade=''\n",
    "    try:  \n",
    "        if score>=0.9 and score<10:\n",
    "            grade = \"A\"\n",
    "        elif score>=0.8 and score<0.9:\n",
    "            grade =\"B\"\n",
    "        elif score>=0.7 and score<0.8:\n",
    "            grade =\"C\"\n",
    "        elif score>=0.6 and score<0.7:\n",
    "            grade =\"D\"\n",
    "        elif score<0.6:\n",
    "            grade =\"F\"\n",
    "        else:\n",
    "            grade =\"Bad score\"\n",
    "    except: \n",
    "        print(\"Only numeric numbers accepted\")\n",
    "    return grade\n",
    "Result = computegrade(10.0)\n",
    "print(Result)"
   ]
  },
  {
   "cell_type": "code",
   "execution_count": 1,
   "id": "c6c5110b",
   "metadata": {},
   "outputs": [
    {
     "name": "stdout",
     "output_type": "stream",
     "text": [
      "Happy New Year:  Joseph\n",
      "Happy New Year:  Glenn\n",
      "Happy New Year:  Sally\n",
      "Done!\n"
     ]
    }
   ],
   "source": [
    "friends = ['Joseph','Glenn','Sally']\n",
    "for friend in friends: \n",
    "    print('Happy New Year: ',friend)\n",
    "print('Done!')"
   ]
  },
  {
   "cell_type": "code",
   "execution_count": 2,
   "id": "68592585",
   "metadata": {},
   "outputs": [
    {
     "name": "stdout",
     "output_type": "stream",
     "text": [
      "Count:  6\n"
     ]
    }
   ],
   "source": [
    "count = 0\n",
    "for itervar in [3,41,12,9,74,15]:\n",
    "    count = count + 1\n",
    "print('Count: ', count)"
   ]
  },
  {
   "cell_type": "code",
   "execution_count": 3,
   "id": "15b8f11e",
   "metadata": {},
   "outputs": [
    {
     "name": "stdout",
     "output_type": "stream",
     "text": [
      "Before:  None\n",
      "Loop:  3 3\n",
      "Loop:  41 41\n",
      "Loop:  12 41\n",
      "Loop:  9 41\n",
      "Loop:  74 74\n",
      "Loop:  15 74\n",
      "Largest:  74\n"
     ]
    }
   ],
   "source": [
    "largest = None \n",
    "print('Before: ',largest)\n",
    "for itervar in [3,41,12,9,74,15]:\n",
    "    if largest is None or itervar > largest: \n",
    "        largest = itervar\n",
    "    print('Loop: ',itervar,largest)\n",
    "print('Largest: ',largest)\n"
   ]
  },
  {
   "cell_type": "code",
   "execution_count": 11,
   "id": "fbeee9d7",
   "metadata": {},
   "outputs": [
    {
     "name": "stdout",
     "output_type": "stream",
     "text": [
      "Enter your input: ddf\n",
      "Enter a correct input\n"
     ]
    }
   ],
   "source": [
    "try:\n",
    "    getInput = input('Enter your input: ')\n",
    "    total =0\n",
    "    count = 0\n",
    "    while getInput!='done':\n",
    "        total += int(getInput)\n",
    "        count += 1\n",
    "        getInput = input('Enter your input: ')\n",
    "    average = total/count\n",
    "    print(\" total: \"+str(total)+\" count: \"+str(count)+\" average: \"+str(average))\n",
    "except:\n",
    "    print('Enter a correct input')"
   ]
  },
  {
   "cell_type": "code",
   "execution_count": null,
   "id": "bdf1e10e",
   "metadata": {},
   "outputs": [],
   "source": [
    "try:\n",
    "    getInput = input('Enter your input: ')\n",
    "    total =0\n",
    "    count = 0\n",
    "    while getInput!='done':\n",
    "        total += int(getInput)\n",
    "        count += 1\n",
    "        getInput = input('Enter your input: ')\n",
    "    average = total/count\n",
    "    print(\" total: \"+str(total)+\" count: \"+str(count)+\" average: \"+str(average))\n",
    "except:\n",
    "    print('Enter a correct input')"
   ]
  },
  {
   "cell_type": "code",
   "execution_count": 13,
   "id": "1f3c526d",
   "metadata": {},
   "outputs": [
    {
     "data": {
      "text/plain": [
       "'a'"
      ]
     },
     "execution_count": 13,
     "metadata": {},
     "output_type": "execute_result"
    }
   ],
   "source": [
    "fruit = 'banana'\n",
    "letter = fruit[1]\n",
    "letter"
   ]
  },
  {
   "cell_type": "code",
   "execution_count": 14,
   "id": "8bf7f44c",
   "metadata": {},
   "outputs": [
    {
     "ename": "TypeError",
     "evalue": "string indices must be integers",
     "output_type": "error",
     "traceback": [
      "\u001b[0;31m---------------------------------------------------------------------------\u001b[0m",
      "\u001b[0;31mTypeError\u001b[0m                                 Traceback (most recent call last)",
      "Input \u001b[0;32mIn [14]\u001b[0m, in \u001b[0;36m<cell line: 1>\u001b[0;34m()\u001b[0m\n\u001b[0;32m----> 1\u001b[0m letter \u001b[38;5;241m=\u001b[39m \u001b[43mfruit\u001b[49m\u001b[43m[\u001b[49m\u001b[38;5;241;43m1.2\u001b[39;49m\u001b[43m]\u001b[49m\n\u001b[1;32m      2\u001b[0m letter\n",
      "\u001b[0;31mTypeError\u001b[0m: string indices must be integers"
     ]
    }
   ],
   "source": [
    "letter = fruit[1.2]\n",
    "letter"
   ]
  },
  {
   "cell_type": "code",
   "execution_count": 15,
   "id": "7f988ecf",
   "metadata": {},
   "outputs": [
    {
     "name": "stdout",
     "output_type": "stream",
     "text": [
      "b\n",
      "a\n",
      "n\n",
      "a\n",
      "n\n",
      "a\n"
     ]
    }
   ],
   "source": [
    "index = 0\n",
    "while index < len(fruit):\n",
    "    letter = fruit[index]\n",
    "    print(letter)\n",
    "    index = index + 1\n"
   ]
  },
  {
   "cell_type": "code",
   "execution_count": 17,
   "id": "fd3faaae",
   "metadata": {},
   "outputs": [
    {
     "name": "stdout",
     "output_type": "stream",
     "text": [
      "a\n",
      "n\n",
      "a\n",
      "n\n",
      "a\n",
      "b\n"
     ]
    }
   ],
   "source": [
    "index = len(fruit)-1\n",
    "while index >=0:\n",
    "    letter = fruit[index]\n",
    "    print(letter)\n",
    "    index = index -1"
   ]
  },
  {
   "cell_type": "code",
   "execution_count": 18,
   "id": "0daff188",
   "metadata": {},
   "outputs": [
    {
     "name": "stdout",
     "output_type": "stream",
     "text": [
      "Monty\n"
     ]
    }
   ],
   "source": [
    "s = 'Monty Python'\n",
    "print(s[0:5])"
   ]
  },
  {
   "cell_type": "code",
   "execution_count": 19,
   "id": "20098bd3",
   "metadata": {},
   "outputs": [
    {
     "name": "stdout",
     "output_type": "stream",
     "text": [
      "Python\n"
     ]
    }
   ],
   "source": [
    "print(s[6:12])"
   ]
  },
  {
   "cell_type": "code",
   "execution_count": 20,
   "id": "72ae5ec5",
   "metadata": {},
   "outputs": [
    {
     "data": {
      "text/plain": [
       "'anana'"
      ]
     },
     "execution_count": 20,
     "metadata": {},
     "output_type": "execute_result"
    }
   ],
   "source": [
    "fruit = 'anana'\n",
    "fruit[:]"
   ]
  },
  {
   "cell_type": "code",
   "execution_count": 21,
   "id": "4c44fc9d",
   "metadata": {},
   "outputs": [],
   "source": [
    "greeting = 'Hello, world!'\n",
    "new_greeting = 'J' + greeting[1:]"
   ]
  },
  {
   "cell_type": "code",
   "execution_count": 22,
   "id": "f3be6a61",
   "metadata": {},
   "outputs": [
    {
     "name": "stdout",
     "output_type": "stream",
     "text": [
      "Jello, world!\n"
     ]
    }
   ],
   "source": [
    "print(new_greeting)"
   ]
  },
  {
   "cell_type": "code",
   "execution_count": 23,
   "id": "08c0a2b9",
   "metadata": {},
   "outputs": [
    {
     "name": "stdout",
     "output_type": "stream",
     "text": [
      "3\n"
     ]
    }
   ],
   "source": [
    "word = 'banana'\n",
    "count = 0\n",
    "for letter in word: \n",
    "    if letter =='a':\n",
    "        count = count + 1\n",
    "print(count)"
   ]
  },
  {
   "cell_type": "code",
   "execution_count": 27,
   "id": "1dab9121",
   "metadata": {},
   "outputs": [
    {
     "name": "stdout",
     "output_type": "stream",
     "text": [
      "1\n"
     ]
    }
   ],
   "source": [
    "def wordCount(word, indLetter):\n",
    "    count = 0\n",
    "    for letter in word: \n",
    "        if letter ==indLetter:\n",
    "            count = count + 1\n",
    "    return count\n",
    "con = wordCount('ahana','n')\n",
    "print(con)    "
   ]
  },
  {
   "cell_type": "code",
   "execution_count": 28,
   "id": "747dfda7",
   "metadata": {},
   "outputs": [
    {
     "data": {
      "text/plain": [
       "True"
      ]
     },
     "execution_count": 28,
     "metadata": {},
     "output_type": "execute_result"
    }
   ],
   "source": [
    "'a' in 'banana'"
   ]
  },
  {
   "cell_type": "code",
   "execution_count": 29,
   "id": "e664d274",
   "metadata": {},
   "outputs": [
    {
     "data": {
      "text/plain": [
       "False"
      ]
     },
     "execution_count": 29,
     "metadata": {},
     "output_type": "execute_result"
    }
   ],
   "source": [
    "'m' in 'banana'"
   ]
  },
  {
   "cell_type": "code",
   "execution_count": 30,
   "id": "7d7145e5",
   "metadata": {},
   "outputs": [
    {
     "data": {
      "text/plain": [
       "str"
      ]
     },
     "execution_count": 30,
     "metadata": {},
     "output_type": "execute_result"
    }
   ],
   "source": [
    "stuff = 'Hello, world'\n",
    "type(stuff)\n"
   ]
  },
  {
   "cell_type": "code",
   "execution_count": 31,
   "id": "c9f343ea",
   "metadata": {},
   "outputs": [
    {
     "data": {
      "text/plain": [
       "['__add__',\n",
       " '__class__',\n",
       " '__contains__',\n",
       " '__delattr__',\n",
       " '__dir__',\n",
       " '__doc__',\n",
       " '__eq__',\n",
       " '__format__',\n",
       " '__ge__',\n",
       " '__getattribute__',\n",
       " '__getitem__',\n",
       " '__getnewargs__',\n",
       " '__gt__',\n",
       " '__hash__',\n",
       " '__init__',\n",
       " '__init_subclass__',\n",
       " '__iter__',\n",
       " '__le__',\n",
       " '__len__',\n",
       " '__lt__',\n",
       " '__mod__',\n",
       " '__mul__',\n",
       " '__ne__',\n",
       " '__new__',\n",
       " '__reduce__',\n",
       " '__reduce_ex__',\n",
       " '__repr__',\n",
       " '__rmod__',\n",
       " '__rmul__',\n",
       " '__setattr__',\n",
       " '__sizeof__',\n",
       " '__str__',\n",
       " '__subclasshook__',\n",
       " 'capitalize',\n",
       " 'casefold',\n",
       " 'center',\n",
       " 'count',\n",
       " 'encode',\n",
       " 'endswith',\n",
       " 'expandtabs',\n",
       " 'find',\n",
       " 'format',\n",
       " 'format_map',\n",
       " 'index',\n",
       " 'isalnum',\n",
       " 'isalpha',\n",
       " 'isascii',\n",
       " 'isdecimal',\n",
       " 'isdigit',\n",
       " 'isidentifier',\n",
       " 'islower',\n",
       " 'isnumeric',\n",
       " 'isprintable',\n",
       " 'isspace',\n",
       " 'istitle',\n",
       " 'isupper',\n",
       " 'join',\n",
       " 'ljust',\n",
       " 'lower',\n",
       " 'lstrip',\n",
       " 'maketrans',\n",
       " 'partition',\n",
       " 'replace',\n",
       " 'rfind',\n",
       " 'rindex',\n",
       " 'rjust',\n",
       " 'rpartition',\n",
       " 'rsplit',\n",
       " 'rstrip',\n",
       " 'split',\n",
       " 'splitlines',\n",
       " 'startswith',\n",
       " 'strip',\n",
       " 'swapcase',\n",
       " 'title',\n",
       " 'translate',\n",
       " 'upper',\n",
       " 'zfill']"
      ]
     },
     "execution_count": 31,
     "metadata": {},
     "output_type": "execute_result"
    }
   ],
   "source": [
    "dir(stuff)"
   ]
  },
  {
   "cell_type": "code",
   "execution_count": 32,
   "id": "728db683",
   "metadata": {},
   "outputs": [
    {
     "name": "stdout",
     "output_type": "stream",
     "text": [
      "Help on method_descriptor:\n",
      "\n",
      "capitalize(self, /)\n",
      "    Return a capitalized version of the string.\n",
      "    \n",
      "    More specifically, make the first character have upper case and the rest lower\n",
      "    case.\n",
      "\n"
     ]
    }
   ],
   "source": [
    "help(str.capitalize)"
   ]
  },
  {
   "cell_type": "code",
   "execution_count": 35,
   "id": "e8ee335b",
   "metadata": {},
   "outputs": [
    {
     "data": {
      "text/plain": [
       "'News'"
      ]
     },
     "execution_count": 35,
     "metadata": {},
     "output_type": "execute_result"
    }
   ],
   "source": [
    "stuff = 'news'\n",
    "stuff.capitalize()"
   ]
  },
  {
   "cell_type": "code",
   "execution_count": 36,
   "id": "138a1d8e",
   "metadata": {},
   "outputs": [
    {
     "data": {
      "text/plain": [
       "'NEWS'"
      ]
     },
     "execution_count": 36,
     "metadata": {},
     "output_type": "execute_result"
    }
   ],
   "source": [
    "stuff.upper()"
   ]
  },
  {
   "cell_type": "code",
   "execution_count": 37,
   "id": "5c8f3ed0",
   "metadata": {},
   "outputs": [
    {
     "data": {
      "text/plain": [
       "1"
      ]
     },
     "execution_count": 37,
     "metadata": {},
     "output_type": "execute_result"
    }
   ],
   "source": [
    "word = 'banana'\n",
    "index = word.find('a')\n",
    "index"
   ]
  },
  {
   "cell_type": "code",
   "execution_count": 38,
   "id": "4a5c5ed9",
   "metadata": {},
   "outputs": [
    {
     "data": {
      "text/plain": [
       "True"
      ]
     },
     "execution_count": 38,
     "metadata": {},
     "output_type": "execute_result"
    }
   ],
   "source": [
    "line = 'Have a nice day'\n",
    "line.startswith('Have')\n"
   ]
  },
  {
   "cell_type": "code",
   "execution_count": 39,
   "id": "6c36bead",
   "metadata": {},
   "outputs": [
    {
     "data": {
      "text/plain": [
       "False"
      ]
     },
     "execution_count": 39,
     "metadata": {},
     "output_type": "execute_result"
    }
   ],
   "source": [
    "line.startswith('h')"
   ]
  },
  {
   "cell_type": "code",
   "execution_count": 41,
   "id": "8fc65286",
   "metadata": {},
   "outputs": [
    {
     "data": {
      "text/plain": [
       "3"
      ]
     },
     "execution_count": 41,
     "metadata": {},
     "output_type": "execute_result"
    }
   ],
   "source": [
    "'banana'.count('a')"
   ]
  },
  {
   "cell_type": "code",
   "execution_count": 42,
   "id": "becb2c0a",
   "metadata": {},
   "outputs": [
    {
     "data": {
      "text/plain": [
       "21"
      ]
     },
     "execution_count": 42,
     "metadata": {},
     "output_type": "execute_result"
    }
   ],
   "source": [
    "data = 'From stephen.marquard@uct.ac.za Sat Jan 5:09:14:16 2008'\n",
    "atpos = data.find('@')\n",
    "atpos"
   ]
  },
  {
   "cell_type": "code",
   "execution_count": 43,
   "id": "01266cf6",
   "metadata": {},
   "outputs": [],
   "source": [
    "sppos = data.find(' ',atpos)"
   ]
  },
  {
   "cell_type": "code",
   "execution_count": 44,
   "id": "47d87213",
   "metadata": {},
   "outputs": [
    {
     "data": {
      "text/plain": [
       "31"
      ]
     },
     "execution_count": 44,
     "metadata": {},
     "output_type": "execute_result"
    }
   ],
   "source": [
    "sppos"
   ]
  },
  {
   "cell_type": "code",
   "execution_count": 45,
   "id": "e5ffde48",
   "metadata": {},
   "outputs": [
    {
     "name": "stdout",
     "output_type": "stream",
     "text": [
      "uct.ac.za\n"
     ]
    }
   ],
   "source": [
    "host = data[atpos+1:sppos]\n",
    "print(host)"
   ]
  },
  {
   "cell_type": "code",
   "execution_count": 46,
   "id": "950714ae",
   "metadata": {},
   "outputs": [
    {
     "data": {
      "text/plain": [
       "18"
      ]
     },
     "execution_count": 46,
     "metadata": {},
     "output_type": "execute_result"
    }
   ],
   "source": [
    "value = 'X-DSPAM-Confidence:0.8475'\n",
    "atPos = value.find(':')\n",
    "atPos"
   ]
  },
  {
   "cell_type": "code",
   "execution_count": 48,
   "id": "ec704d96",
   "metadata": {},
   "outputs": [
    {
     "data": {
      "text/plain": [
       "0.847"
      ]
     },
     "execution_count": 48,
     "metadata": {},
     "output_type": "execute_result"
    }
   ],
   "source": [
    "extractVal = value[atPos+1:len(value)-1]\n",
    "float(extractVal)"
   ]
  },
  {
   "cell_type": "code",
   "execution_count": 49,
   "id": "ef6ba53a",
   "metadata": {},
   "outputs": [
    {
     "data": {
      "text/plain": [
       "'Visa got approved'"
      ]
     },
     "execution_count": 49,
     "metadata": {},
     "output_type": "execute_result"
    }
   ],
   "source": [
    "string = ' Visa got approved '\n",
    "string.strip()"
   ]
  },
  {
   "cell_type": "code",
   "execution_count": 50,
   "id": "6e7cc71d",
   "metadata": {},
   "outputs": [
    {
     "ename": "TypeError",
     "evalue": "replace() argument 1 must be str, not int",
     "output_type": "error",
     "traceback": [
      "\u001b[0;31m---------------------------------------------------------------------------\u001b[0m",
      "\u001b[0;31mTypeError\u001b[0m                                 Traceback (most recent call last)",
      "Input \u001b[0;32mIn [50]\u001b[0m, in \u001b[0;36m<cell line: 1>\u001b[0;34m()\u001b[0m\n\u001b[0;32m----> 1\u001b[0m string1 \u001b[38;5;241m=\u001b[39m \u001b[43mstring\u001b[49m\u001b[38;5;241;43m.\u001b[39;49m\u001b[43mreplace\u001b[49m\u001b[43m(\u001b[49m\u001b[38;5;241;43m0\u001b[39;49m\u001b[43m,\u001b[49m\u001b[38;5;124;43m'\u001b[39;49m\u001b[38;5;124;43ma\u001b[39;49m\u001b[38;5;124;43m'\u001b[39;49m\u001b[43m)\u001b[49m\n",
      "\u001b[0;31mTypeError\u001b[0m: replace() argument 1 must be str, not int"
     ]
    }
   ],
   "source": [
    "string1 = string.replace(0,'a')"
   ]
  },
  {
   "cell_type": "code",
   "execution_count": 51,
   "id": "53666d51",
   "metadata": {},
   "outputs": [
    {
     "ename": "TypeError",
     "evalue": "replace expected at least 2 arguments, got 0",
     "output_type": "error",
     "traceback": [
      "\u001b[0;31m---------------------------------------------------------------------------\u001b[0m",
      "\u001b[0;31mTypeError\u001b[0m                                 Traceback (most recent call last)",
      "Input \u001b[0;32mIn [51]\u001b[0m, in \u001b[0;36m<cell line: 1>\u001b[0;34m()\u001b[0m\n\u001b[0;32m----> 1\u001b[0m help(\u001b[43mstring\u001b[49m\u001b[38;5;241;43m.\u001b[39;49m\u001b[43mreplace\u001b[49m\u001b[43m(\u001b[49m\u001b[43m)\u001b[49m)\n",
      "\u001b[0;31mTypeError\u001b[0m: replace expected at least 2 arguments, got 0"
     ]
    }
   ],
   "source": [
    "help(string.replace())"
   ]
  },
  {
   "cell_type": "code",
   "execution_count": 52,
   "id": "fa3d930d",
   "metadata": {},
   "outputs": [
    {
     "ename": "NameError",
     "evalue": "name 'replace' is not defined",
     "output_type": "error",
     "traceback": [
      "\u001b[0;31m---------------------------------------------------------------------------\u001b[0m",
      "\u001b[0;31mNameError\u001b[0m                                 Traceback (most recent call last)",
      "Input \u001b[0;32mIn [52]\u001b[0m, in \u001b[0;36m<cell line: 1>\u001b[0;34m()\u001b[0m\n\u001b[0;32m----> 1\u001b[0m help(\u001b[43mreplace\u001b[49m)\n",
      "\u001b[0;31mNameError\u001b[0m: name 'replace' is not defined"
     ]
    }
   ],
   "source": [
    "help(replace)"
   ]
  },
  {
   "cell_type": "code",
   "execution_count": 53,
   "id": "7b205dd1",
   "metadata": {},
   "outputs": [
    {
     "ename": "NameError",
     "evalue": "name 'DIR' is not defined",
     "output_type": "error",
     "traceback": [
      "\u001b[0;31m---------------------------------------------------------------------------\u001b[0m",
      "\u001b[0;31mNameError\u001b[0m                                 Traceback (most recent call last)",
      "Input \u001b[0;32mIn [53]\u001b[0m, in \u001b[0;36m<cell line: 1>\u001b[0;34m()\u001b[0m\n\u001b[0;32m----> 1\u001b[0m \u001b[43mDIR\u001b[49m(\u001b[38;5;28mstr\u001b[39m)\n",
      "\u001b[0;31mNameError\u001b[0m: name 'DIR' is not defined"
     ]
    }
   ],
   "source": [
    "DIR(str)"
   ]
  },
  {
   "cell_type": "code",
   "execution_count": 54,
   "id": "f7666e77",
   "metadata": {},
   "outputs": [
    {
     "data": {
      "text/plain": [
       "['__add__',\n",
       " '__class__',\n",
       " '__contains__',\n",
       " '__delattr__',\n",
       " '__dir__',\n",
       " '__doc__',\n",
       " '__eq__',\n",
       " '__format__',\n",
       " '__ge__',\n",
       " '__getattribute__',\n",
       " '__getitem__',\n",
       " '__getnewargs__',\n",
       " '__gt__',\n",
       " '__hash__',\n",
       " '__init__',\n",
       " '__init_subclass__',\n",
       " '__iter__',\n",
       " '__le__',\n",
       " '__len__',\n",
       " '__lt__',\n",
       " '__mod__',\n",
       " '__mul__',\n",
       " '__ne__',\n",
       " '__new__',\n",
       " '__reduce__',\n",
       " '__reduce_ex__',\n",
       " '__repr__',\n",
       " '__rmod__',\n",
       " '__rmul__',\n",
       " '__setattr__',\n",
       " '__sizeof__',\n",
       " '__str__',\n",
       " '__subclasshook__',\n",
       " 'capitalize',\n",
       " 'casefold',\n",
       " 'center',\n",
       " 'count',\n",
       " 'encode',\n",
       " 'endswith',\n",
       " 'expandtabs',\n",
       " 'find',\n",
       " 'format',\n",
       " 'format_map',\n",
       " 'index',\n",
       " 'isalnum',\n",
       " 'isalpha',\n",
       " 'isascii',\n",
       " 'isdecimal',\n",
       " 'isdigit',\n",
       " 'isidentifier',\n",
       " 'islower',\n",
       " 'isnumeric',\n",
       " 'isprintable',\n",
       " 'isspace',\n",
       " 'istitle',\n",
       " 'isupper',\n",
       " 'join',\n",
       " 'ljust',\n",
       " 'lower',\n",
       " 'lstrip',\n",
       " 'maketrans',\n",
       " 'partition',\n",
       " 'replace',\n",
       " 'rfind',\n",
       " 'rindex',\n",
       " 'rjust',\n",
       " 'rpartition',\n",
       " 'rsplit',\n",
       " 'rstrip',\n",
       " 'split',\n",
       " 'splitlines',\n",
       " 'startswith',\n",
       " 'strip',\n",
       " 'swapcase',\n",
       " 'title',\n",
       " 'translate',\n",
       " 'upper',\n",
       " 'zfill']"
      ]
     },
     "execution_count": 54,
     "metadata": {},
     "output_type": "execute_result"
    }
   ],
   "source": []
  },
  {
   "cell_type": "code",
   "execution_count": 59,
   "id": "468138be",
   "metadata": {},
   "outputs": [
    {
     "data": {
      "text/plain": [
       "'Visa has been approved'"
      ]
     },
     "execution_count": 59,
     "metadata": {},
     "output_type": "execute_result"
    }
   ],
   "source": [
    "string2 = string.strip()\n",
    "string2.replace('got','has been')"
   ]
  },
  {
   "cell_type": "code",
   "execution_count": 60,
   "id": "b571f9a1",
   "metadata": {},
   "outputs": [
    {
     "ename": "FileNotFoundError",
     "evalue": "[Errno 2] No such file or directory: 'text.tx'",
     "output_type": "error",
     "traceback": [
      "\u001b[0;31m---------------------------------------------------------------------------\u001b[0m",
      "\u001b[0;31mFileNotFoundError\u001b[0m                         Traceback (most recent call last)",
      "Input \u001b[0;32mIn [60]\u001b[0m, in \u001b[0;36m<cell line: 1>\u001b[0;34m()\u001b[0m\n\u001b[0;32m----> 1\u001b[0m fileRead \u001b[38;5;241m=\u001b[39m \u001b[38;5;28;43mopen\u001b[39;49m\u001b[43m(\u001b[49m\u001b[38;5;124;43m'\u001b[39;49m\u001b[38;5;124;43mtext.tx\u001b[39;49m\u001b[38;5;124;43m'\u001b[39;49m\u001b[43m)\u001b[49m\n\u001b[1;32m      2\u001b[0m fileRead\n",
      "\u001b[0;31mFileNotFoundError\u001b[0m: [Errno 2] No such file or directory: 'text.tx'"
     ]
    }
   ],
   "source": [
    "fileRead = open('text.tx')\n",
    "fileRead"
   ]
  },
  {
   "cell_type": "code",
   "execution_count": 63,
   "id": "bfb1d035",
   "metadata": {},
   "outputs": [],
   "source": [
    "stuff = 'Hello\\nworld'"
   ]
  },
  {
   "cell_type": "code",
   "execution_count": 64,
   "id": "c50c1e92",
   "metadata": {},
   "outputs": [
    {
     "data": {
      "text/plain": [
       "'Hello\\nworld'"
      ]
     },
     "execution_count": 64,
     "metadata": {},
     "output_type": "execute_result"
    }
   ],
   "source": [
    "stuff"
   ]
  },
  {
   "cell_type": "code",
   "execution_count": 65,
   "id": "26baca16",
   "metadata": {},
   "outputs": [
    {
     "name": "stdout",
     "output_type": "stream",
     "text": [
      "Hello\n",
      "world\n"
     ]
    }
   ],
   "source": [
    "print(stuff)"
   ]
  },
  {
   "cell_type": "code",
   "execution_count": 66,
   "id": "0b0bfe66",
   "metadata": {},
   "outputs": [
    {
     "name": "stdout",
     "output_type": "stream",
     "text": [
      "X\n",
      "Y\n"
     ]
    }
   ],
   "source": [
    "stuff1 = 'X\\nY'\n",
    "print(stuff1)"
   ]
  },
  {
   "cell_type": "code",
   "execution_count": 67,
   "id": "ad1a0313",
   "metadata": {},
   "outputs": [
    {
     "data": {
      "text/plain": [
       "11"
      ]
     },
     "execution_count": 67,
     "metadata": {},
     "output_type": "execute_result"
    }
   ],
   "source": [
    "len(stuff)"
   ]
  },
  {
   "cell_type": "code",
   "execution_count": 68,
   "id": "5fbf950d",
   "metadata": {},
   "outputs": [
    {
     "data": {
      "text/plain": [
       "3"
      ]
     },
     "execution_count": 68,
     "metadata": {},
     "output_type": "execute_result"
    }
   ],
   "source": [
    "len(stuff1)"
   ]
  },
  {
   "cell_type": "code",
   "execution_count": null,
   "id": "90ed1b68",
   "metadata": {},
   "outputs": [],
   "source": []
  }
 ],
 "metadata": {
  "kernelspec": {
   "display_name": "Python 3 (ipykernel)",
   "language": "python",
   "name": "python3"
  },
  "language_info": {
   "codemirror_mode": {
    "name": "ipython",
    "version": 3
   },
   "file_extension": ".py",
   "mimetype": "text/x-python",
   "name": "python",
   "nbconvert_exporter": "python",
   "pygments_lexer": "ipython3",
   "version": "3.8.10"
  }
 },
 "nbformat": 4,
 "nbformat_minor": 5
}
